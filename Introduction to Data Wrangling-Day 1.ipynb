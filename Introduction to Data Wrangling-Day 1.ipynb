{
 "cells": [
  {
   "cell_type": "markdown",
   "id": "e614bbf3",
   "metadata": {},
   "source": [
    "## What is Data Wrangling?"
   ]
  },
  {
   "cell_type": "markdown",
   "id": "866c2a2a",
   "metadata": {},
   "source": [
    "#### <font color='red'> Data wrangling is the process of removing errors and combining complex data sets to make them more accessible and easier to analyze.\n",
    "Data wrangling can be defined as the process of cleaning, organizing, and transforming raw data into the desired format for analysts to use for prompt decision-making. Also known as data cleaning or data munging, data wrangling enables businesses to tackle more complex data in less time, produce more accurate results, and make better decisions. The exact methods vary from project to project depending upon your data and the goal you are trying to achieve. More and more organizations are increasingly relying on data wrangling tools to make data ready for downstream analytics. \n",
    "\n"
   ]
  },
  {
   "cell_type": "markdown",
   "id": "1d29e952",
   "metadata": {},
   "source": [
    "## Why is Data Wrangling important?"
   ]
  },
  {
   "cell_type": "markdown",
   "id": "a589ee69",
   "metadata": {},
   "source": [
    "1)Making raw data usable. \n",
    "\n",
    "2)Accurately wrangled data guarantees that quality data is entered into the downstream analysis. \n",
    "\n",
    "\n",
    "3)Getting all data from various sources into a centralized location so it can be used.\n",
    "\n",
    "\n",
    "4)Piecing together raw data according to the required format and understanding the business context of data\n",
    "\n",
    "\n",
    "5)Automated data integration tools are used as data wrangling techniques that clean and convert source data into a standard format that can be used repeatedly according to end requirements.Businesses use this standardized data to perform crucial, cross-data set analytics. \n",
    "\n",
    "\n",
    "6)Cleansing the data from the noise or flawed, missing elements\n",
    "\n",
    "\n",
    "7)Data wrangling acts as a preparation stage for the data mining process, which involves gathering data and making sense of it. \n",
    "\n",
    "\n",
    "8)Helping business users make concrete, timely decisions"
   ]
  },
  {
   "cell_type": "markdown",
   "id": "774772a1",
   "metadata": {},
   "source": [
    "## Steps in Data Wrangling"
   ]
  },
  {
   "cell_type": "markdown",
   "id": "830f048f",
   "metadata": {},
   "source": [
    "Data wrangling in python deals with the below functionalities:\n",
    "\n",
    "1)Data exploration: In this process, the data is studied, analyzed and understood by visualizing representations of data.\n",
    "\n",
    "\n",
    "2)Dealing with missing values: Most of the datasets having a vast amount of data contain missing values of NaN, they are needed to be taken care of by replacing them with mean, mode, the most frequent value of the column or simply by dropping the row having a NaN value.\n",
    "\n",
    "\n",
    "3)Reshaping data: In this process, data is manipulated according to the requirements, where new data can be added or pre-existing data can be modified.\n",
    "\n",
    "\n",
    "4)Filtering data: Some times datasets are comprised of unwanted rows or columns which are required to be removed or filtered\n",
    "Other: After dealing with the raw dataset with the above functionalities we get an efficient dataset as per our requirements and then it can be used for a required purpose like data analyzing, machine learning, data visualization, model training etc."
   ]
  },
  {
   "cell_type": "markdown",
   "id": "6c3f69fc",
   "metadata": {},
   "source": [
    "## Which all job roles require Data Wrangling?"
   ]
  },
  {
   "cell_type": "markdown",
   "id": "298d6d12",
   "metadata": {},
   "source": [
    "1) Data Analyst\n",
    "\n",
    "\n",
    "2) Business Analyst\n",
    "\n",
    "\n",
    "3) Product Analyst\n",
    "\n",
    "\n",
    "4) Data Scientist\n",
    "\n",
    "\n",
    "5) Data Engineer\n",
    "\n",
    "\n",
    "5) Software Developer"
   ]
  },
  {
   "cell_type": "markdown",
   "id": "da703991",
   "metadata": {},
   "source": [
    "## What is the difference between Data Wrangling & Data Analytics?"
   ]
  },
  {
   "cell_type": "markdown",
   "id": "e9c772de",
   "metadata": {},
   "source": [
    "Data Wrangling is step 1 of Data Analytics\n",
    "\n",
    "\n",
    "Learn in detail : https://corporatefinanceinstitute.com/resources/knowledge/other/data-analytics/"
   ]
  },
  {
   "cell_type": "markdown",
   "id": "375b5c3f",
   "metadata": {},
   "source": [
    "## Tools used for Data Wrangling/ Tools that we will use for DW"
   ]
  },
  {
   "cell_type": "markdown",
   "id": "2ff8ed8f",
   "metadata": {},
   "source": [
    "Talend\n",
    "\n",
    "Alteryx APA\n",
    "\n",
    "Altair Monarch\n",
    "\n",
    "Trifacta\n",
    "\n",
    "Datameer\n",
    "\n",
    "Microsoft Power Query\n",
    "\n",
    "Tableau Desktop\n",
    "\n",
    "\n",
    "\n",
    "#### <font color= blue> Python with NumPy, Pandas & Seaborn"
   ]
  },
  {
   "cell_type": "markdown",
   "id": "763a719c",
   "metadata": {},
   "source": [
    "## Skills required for Data Analyst"
   ]
  },
  {
   "cell_type": "markdown",
   "id": "16aa807b",
   "metadata": {},
   "source": [
    "1) Microsoft Excel\n",
    "\n",
    "2) SQL\n",
    "\n",
    "3) Python or R\n",
    "\n",
    "4) Power BI/Tableau/Qlikview\n",
    "\n",
    "5) google!"
   ]
  },
  {
   "cell_type": "markdown",
   "id": "f1a753c8",
   "metadata": {},
   "source": [
    "## Few websites you should always keep handy"
   ]
  },
  {
   "cell_type": "markdown",
   "id": "07312f91",
   "metadata": {},
   "source": [
    "1)analyticsvidhya\n",
    "\n",
    "2)simplikearn\n",
    "\n",
    "3)geeksforgeeks\n",
    "\n",
    "4)Kaggle learn\n",
    "\n",
    "5)W3 Schools\n",
    "\n",
    "6)Towards Data Science"
   ]
  },
  {
   "cell_type": "markdown",
   "id": "a1dfa214",
   "metadata": {},
   "source": [
    "## Why all Python Developers need to learn Data Wrangling?Why developers make great data scientists?\n"
   ]
  },
  {
   "cell_type": "markdown",
   "id": "30dc23db",
   "metadata": {},
   "source": [
    "## Common Libraries for Data Wrangling - NumPy, Pandas & Seaborn\n"
   ]
  },
  {
   "cell_type": "markdown",
   "id": "9173c576",
   "metadata": {},
   "source": [
    "## NumPy"
   ]
  },
  {
   "cell_type": "markdown",
   "id": "03813f15",
   "metadata": {},
   "source": [
    "Documentation: https://numpy.org/\n",
    "\n"
   ]
  },
  {
   "cell_type": "code",
   "execution_count": 1,
   "id": "8df6de89",
   "metadata": {},
   "outputs": [
    {
     "name": "stdout",
     "output_type": "stream",
     "text": [
      "Requirement already satisfied: numpy in c:\\users\\tanus\\anaconda3\\lib\\site-packages (1.21.5)\n"
     ]
    }
   ],
   "source": [
    "!pip install numpy"
   ]
  },
  {
   "cell_type": "code",
   "execution_count": 1,
   "id": "07e72dfd",
   "metadata": {},
   "outputs": [],
   "source": [
    "import numpy as np"
   ]
  },
  {
   "cell_type": "code",
   "execution_count": 3,
   "id": "c18185ca",
   "metadata": {},
   "outputs": [
    {
     "name": "stdout",
     "output_type": "stream",
     "text": [
      "Time taken by list: 0.2462477684020996 seconds\n",
      "Time taken by array: 0.0030145645141601562 seconds\n"
     ]
    }
   ],
   "source": [
    "import time\n",
    "size=1000000\n",
    "\n",
    "\n",
    "# declaring 2 lists\n",
    "\n",
    "list1= range(size)\n",
    "list2= range(size)\n",
    "\n",
    "# declaring 2 numpy arrays\n",
    "\n",
    "array1= np.arange(size)\n",
    "array2= np.arange(size)\n",
    "\n",
    "\n",
    "# time taken by list\n",
    "initialtime=time.time()\n",
    "\n",
    "mult_list= [(a*b) for a,b in zip(list1,list2)]\n",
    "\n",
    "print(\"Time taken by list:\", (time.time()-initialtime), \"seconds\")\n",
    "\n",
    "\n",
    "#time taken by array\n",
    "initialtime=time.time()\n",
    "\n",
    "mult_array= array1*array2\n",
    "\n",
    "print(\"Time taken by array:\", (time.time()-initialtime), \"seconds\")\n",
    "\n",
    "\n",
    "\n"
   ]
  },
  {
   "cell_type": "markdown",
   "id": "137bd706",
   "metadata": {},
   "source": [
    "## Pandas"
   ]
  },
  {
   "cell_type": "markdown",
   "id": "2cdefcee",
   "metadata": {},
   "source": [
    "\n",
    "https://pandas.pydata.org/"
   ]
  },
  {
   "cell_type": "code",
   "execution_count": 3,
   "id": "e13d7d7f",
   "metadata": {},
   "outputs": [
    {
     "name": "stdout",
     "output_type": "stream",
     "text": [
      "Requirement already satisfied: pandas in c:\\users\\tanus\\anaconda3\\lib\\site-packages (1.4.2)\n",
      "Requirement already satisfied: pytz>=2020.1 in c:\\users\\tanus\\anaconda3\\lib\\site-packages (from pandas) (2021.3)\n",
      "Requirement already satisfied: python-dateutil>=2.8.1 in c:\\users\\tanus\\anaconda3\\lib\\site-packages (from pandas) (2.8.2)\n",
      "Requirement already satisfied: numpy>=1.18.5 in c:\\users\\tanus\\anaconda3\\lib\\site-packages (from pandas) (1.21.5)\n",
      "Requirement already satisfied: six>=1.5 in c:\\users\\tanus\\anaconda3\\lib\\site-packages (from python-dateutil>=2.8.1->pandas) (1.16.0)\n"
     ]
    }
   ],
   "source": [
    "!pip install pandas"
   ]
  },
  {
   "cell_type": "code",
   "execution_count": 4,
   "id": "029ad445",
   "metadata": {},
   "outputs": [],
   "source": [
    "import pandas as pd"
   ]
  },
  {
   "cell_type": "markdown",
   "id": "8d519176",
   "metadata": {},
   "source": [
    "What is Seaborn?"
   ]
  },
  {
   "cell_type": "markdown",
   "id": "60f99b6d",
   "metadata": {},
   "source": [
    "https://seaborn.pydata.org/"
   ]
  },
  {
   "cell_type": "code",
   "execution_count": 5,
   "id": "776bab72",
   "metadata": {},
   "outputs": [
    {
     "name": "stdout",
     "output_type": "stream",
     "text": [
      "Requirement already satisfied: seaborn in c:\\users\\tanus\\anaconda3\\lib\\site-packages (0.11.2)\n",
      "Requirement already satisfied: pandas>=0.23 in c:\\users\\tanus\\anaconda3\\lib\\site-packages (from seaborn) (1.4.2)\n",
      "Requirement already satisfied: numpy>=1.15 in c:\\users\\tanus\\anaconda3\\lib\\site-packages (from seaborn) (1.21.5)\n",
      "Requirement already satisfied: scipy>=1.0 in c:\\users\\tanus\\anaconda3\\lib\\site-packages (from seaborn) (1.7.3)\n",
      "Requirement already satisfied: matplotlib>=2.2 in c:\\users\\tanus\\anaconda3\\lib\\site-packages (from seaborn) (3.5.1)\n",
      "Requirement already satisfied: packaging>=20.0 in c:\\users\\tanus\\anaconda3\\lib\\site-packages (from matplotlib>=2.2->seaborn) (21.3)\n",
      "Requirement already satisfied: pillow>=6.2.0 in c:\\users\\tanus\\anaconda3\\lib\\site-packages (from matplotlib>=2.2->seaborn) (9.0.1)\n",
      "Requirement already satisfied: python-dateutil>=2.7 in c:\\users\\tanus\\anaconda3\\lib\\site-packages (from matplotlib>=2.2->seaborn) (2.8.2)\n",
      "Requirement already satisfied: fonttools>=4.22.0 in c:\\users\\tanus\\anaconda3\\lib\\site-packages (from matplotlib>=2.2->seaborn) (4.25.0)\n",
      "Requirement already satisfied: cycler>=0.10 in c:\\users\\tanus\\anaconda3\\lib\\site-packages (from matplotlib>=2.2->seaborn) (0.11.0)\n",
      "Requirement already satisfied: pyparsing>=2.2.1 in c:\\users\\tanus\\anaconda3\\lib\\site-packages (from matplotlib>=2.2->seaborn) (3.0.4)\n",
      "Requirement already satisfied: kiwisolver>=1.0.1 in c:\\users\\tanus\\anaconda3\\lib\\site-packages (from matplotlib>=2.2->seaborn) (1.3.2)\n",
      "Requirement already satisfied: pytz>=2020.1 in c:\\users\\tanus\\anaconda3\\lib\\site-packages (from pandas>=0.23->seaborn) (2021.3)\n",
      "Requirement already satisfied: six>=1.5 in c:\\users\\tanus\\anaconda3\\lib\\site-packages (from python-dateutil>=2.7->matplotlib>=2.2->seaborn) (1.16.0)\n"
     ]
    }
   ],
   "source": [
    "!pip install seaborn"
   ]
  },
  {
   "cell_type": "code",
   "execution_count": 6,
   "id": "8bca1404",
   "metadata": {},
   "outputs": [],
   "source": [
    "import seaborn as sns"
   ]
  },
  {
   "cell_type": "markdown",
   "id": "95aa02ea",
   "metadata": {},
   "source": [
    "Tomorrow: Getting started with NumPy"
   ]
  }
 ],
 "metadata": {
  "kernelspec": {
   "display_name": "Python 3 (ipykernel)",
   "language": "python",
   "name": "python3"
  },
  "language_info": {
   "codemirror_mode": {
    "name": "ipython",
    "version": 3
   },
   "file_extension": ".py",
   "mimetype": "text/x-python",
   "name": "python",
   "nbconvert_exporter": "python",
   "pygments_lexer": "ipython3",
   "version": "3.9.12"
  }
 },
 "nbformat": 4,
 "nbformat_minor": 5
}
