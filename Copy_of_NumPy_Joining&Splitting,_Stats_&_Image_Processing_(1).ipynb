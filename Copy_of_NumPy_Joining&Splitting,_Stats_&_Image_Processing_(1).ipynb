{
  "cells": [
    {
      "cell_type": "markdown",
      "id": "1f4a24fb",
      "metadata": {
        "id": "1f4a24fb"
      },
      "source": [
        "## NumPy in Depth"
      ]
    },
    {
      "cell_type": "markdown",
      "id": "201466f4",
      "metadata": {
        "id": "201466f4"
      },
      "source": [
        "### <font color=pink>Recap of Past Concepts: NumPy Arrays</font>"
      ]
    },
    {
      "cell_type": "code",
      "execution_count": null,
      "id": "31cc319c",
      "metadata": {
        "id": "31cc319c"
      },
      "outputs": [],
      "source": [
        "#Import numpy library"
      ]
    },
    {
      "cell_type": "code",
      "execution_count": null,
      "id": "4e68fadb",
      "metadata": {
        "id": "4e68fadb"
      },
      "outputs": [],
      "source": [
        "#Create list in Python"
      ]
    },
    {
      "cell_type": "code",
      "execution_count": null,
      "id": "7a17bd31",
      "metadata": {
        "id": "7a17bd31"
      },
      "outputs": [],
      "source": [
        "#Convert list to NumPy array"
      ]
    },
    {
      "cell_type": "code",
      "execution_count": null,
      "id": "ddc395b6",
      "metadata": {
        "id": "ddc395b6"
      },
      "outputs": [],
      "source": [
        "#display the NumPy array"
      ]
    },
    {
      "cell_type": "markdown",
      "id": "eb20f29a",
      "metadata": {
        "id": "eb20f29a"
      },
      "source": [
        "### Today's topic:: Splitting NumPy Arrays, but before splitting let's see how to join NumPy Arrays"
      ]
    },
    {
      "cell_type": "markdown",
      "id": "17198d07",
      "metadata": {
        "id": "17198d07"
      },
      "source": [
        "#### <font color=violet>Joining NumPy Arrays</font>"
      ]
    },
    {
      "cell_type": "markdown",
      "id": "6a82e9bc",
      "metadata": {
        "id": "6a82e9bc"
      },
      "source": [
        "Joining means putting contents of two or more arrays in a single array.\n",
        "\n",
        "In SQL we join tables based on a key, whereas in NumPy we join arrays by axes.\n",
        "\n",
        "We pass a sequence of arrays that we want to join to the concatenate() function, along with the axis. If axis is not explicitly passed, it is taken as 0.\n",
        "\n",
        "Syntax:\n",
        "\n",
        "np.concatenate((array1,array2),axis=0) axis=0(along columns), axis=1(along rows)"
      ]
    },
    {
      "cell_type": "code",
      "execution_count": null,
      "id": "a4cfcc9a",
      "metadata": {
        "id": "a4cfcc9a",
        "colab": {
          "base_uri": "https://localhost:8080/"
        },
        "outputId": "ec28b5ad-cfc8-4ae2-b3d4-3ce2759b9e4e"
      },
      "outputs": [
        {
          "output_type": "execute_result",
          "data": {
            "text/plain": [
              "array([[1, 2, 5],\n",
              "       [3, 4, 6]])"
            ]
          },
          "metadata": {},
          "execution_count": 5
        }
      ],
      "source": [
        "#concatenate two 1 D arrays\n",
        "import numpy as np\n",
        "arr1=np.array([[1,2],[3,4]])\n",
        "arr2=np.array([[4,5],[6,7]])\n",
        "arr=np.concatenate((arr1,arr2))\n",
        "arr\n",
        "# 2D array\n",
        "arr1=np.array([[1,2],[3,4]])\n",
        "arr2=np.array([[4,5],[6,7]])\n",
        "arr=np.concatenate((arr1,arr2),axis=1)\n",
        "arr\n",
        "\n",
        "\n",
        "#2Darray\n",
        "arr1=np.array([[1,2],[3,4]])\n",
        "arr2=np.array([[4,5],[6,7]])\n",
        "arr=np.concatenate((arr1,arr2),axis=0)\n",
        "arr\n",
        "\n",
        "\n",
        "a=np.array([[1,2],\n",
        "           [3,4]])\n",
        "b=np.array([[5,6]])\n",
        "np.concatenate((a,b),axis=0)\n",
        "#2Darray\n",
        "arr1=np.array([[1,2],[3,4]])\n",
        "arr2=np.array([[4,5],[6,7]])\n",
        "arr=np.concatenate((arr1,arr2),axis=0)\n",
        "arr\n",
        "\n",
        "\n",
        "a=np.array([[1,2],\n",
        "           [3,4]])\n",
        "b=np.array([[5,6]])\n",
        "np.concatenate((a,b),axis=0)\n",
        "\n",
        "np.concatenate((a,b.T),axis=1)"
      ]
    },
    {
      "cell_type": "markdown",
      "id": "12e2655c",
      "metadata": {
        "id": "12e2655c"
      },
      "source": [
        "#### <font color=red>Exercise: Join 2 2D arrays using any example of your choice</font>"
      ]
    },
    {
      "cell_type": "code",
      "execution_count": null,
      "id": "641a3b72",
      "metadata": {
        "id": "641a3b72",
        "colab": {
          "base_uri": "https://localhost:8080/"
        },
        "outputId": "58881062-cf65-4d51-e270-67bac4588d89"
      },
      "outputs": [
        {
          "output_type": "execute_result",
          "data": {
            "text/plain": [
              "array([[1, 2, 5],\n",
              "       [3, 4, 6]])"
            ]
          },
          "metadata": {},
          "execution_count": 6
        }
      ],
      "source": [
        "a=np.array([[1,2],\n",
        "           [3,4]])\n",
        "b=np.array([[5,6]])\n",
        "np.concatenate((a,b),axis=0)\n",
        "\n",
        "np.concatenate((a,b.T),axis=1)"
      ]
    },
    {
      "cell_type": "markdown",
      "id": "c28151a7",
      "metadata": {
        "id": "c28151a7"
      },
      "source": [
        "### Stack Functions "
      ]
    },
    {
      "cell_type": "markdown",
      "id": "10d5e057",
      "metadata": {
        "id": "10d5e057"
      },
      "source": [
        "Joining Arrays Using Stack Functions\n",
        "Stacking is same as concatenation, the only difference is that stacking is done along a new axis.\n",
        "\n",
        "We can concatenate two 1-D arrays along the second axis which would result in putting them one over the other, ie. stacking.\n",
        "\n",
        "We pass a sequence of arrays that we want to join to the stack() method along with the axis. If axis is not explicitly passed it is taken as 0."
      ]
    },
    {
      "cell_type": "code",
      "execution_count": null,
      "id": "544b3881",
      "metadata": {
        "scrolled": true,
        "id": "544b3881",
        "colab": {
          "base_uri": "https://localhost:8080/"
        },
        "outputId": "c5a9bbd5-4fd3-4e66-c96b-43e2977cbe3d"
      },
      "outputs": [
        {
          "output_type": "execute_result",
          "data": {
            "text/plain": [
              "array([[[ 1,  2,  3],\n",
              "        [ 7,  8,  9]],\n",
              "\n",
              "       [[ 4,  5,  6],\n",
              "        [10, 11, 12]]])"
            ]
          },
          "metadata": {},
          "execution_count": 15
        }
      ],
      "source": [
        "# using stack function\n",
        "#dimensions =1+ given dimensions \n",
        "arr1=np.array([1,2,3])\n",
        "arr2=np.array([4,5,6])\n",
        "arr=np.stack((arr1,arr2),axis=1)\n",
        "arr\n",
        "\n",
        "arr1=np.array([[1,2,3],[4,5,6]])\n",
        "arr2=np.array([[7,8,9],[10,11,12]])\n",
        "arr=np.stack((arr1,arr2),axis=1)\n",
        "arr"
      ]
    },
    {
      "cell_type": "markdown",
      "id": "31c94b19",
      "metadata": {
        "id": "31c94b19"
      },
      "source": [
        "Stacking Along Rows\n",
        "NumPy provides a helper function: hstack() to stack along rows."
      ]
    },
    {
      "cell_type": "markdown",
      "id": "64792a52",
      "metadata": {
        "id": "64792a52"
      },
      "source": [
        "#### <font color=red>Exercise: Join 2 2D arrays using hstack. Hint:hstack has no axis parameter</font>"
      ]
    },
    {
      "cell_type": "code",
      "execution_count": null,
      "id": "cc5d7718",
      "metadata": {
        "id": "cc5d7718",
        "colab": {
          "base_uri": "https://localhost:8080/"
        },
        "outputId": "fc3f2ab5-3ff7-4288-f904-7b3ffa2ced19"
      },
      "outputs": [
        {
          "output_type": "execute_result",
          "data": {
            "text/plain": [
              "array([[ 1,  2,  3,  7,  8,  9],\n",
              "       [ 4,  5,  6, 10, 11, 12]])"
            ]
          },
          "metadata": {},
          "execution_count": 17
        }
      ],
      "source": [
        "#dimensions same\n",
        "\n",
        "arr1=np.array([1,2,3])\n",
        "arr2=np.array([4,5,6])\n",
        "arr=np.hstack((arr1,arr2))\n",
        "arr\n",
        "\n",
        "arr1=np.array([[1,2,3],\n",
        "               [4,5,6]])\n",
        "arr2=np.array([[7,8,9],\n",
        "              [10,11,12]])\n",
        "arr=np.hstack((arr1,arr2))\n",
        "#similar to concatenate (axis=1)\n",
        "arr"
      ]
    },
    {
      "cell_type": "markdown",
      "id": "664e114f",
      "metadata": {
        "id": "664e114f"
      },
      "source": [
        "Stacking Along Columns\n",
        "NumPy provides a helper function: vstack() to stack along columns"
      ]
    },
    {
      "cell_type": "markdown",
      "id": "057e480c",
      "metadata": {
        "id": "057e480c"
      },
      "source": [
        "#### <font color=red>Exercise: Join 2 2D arrays using vstack</font>"
      ]
    },
    {
      "cell_type": "code",
      "execution_count": null,
      "id": "bd3a18cd",
      "metadata": {
        "id": "bd3a18cd",
        "colab": {
          "base_uri": "https://localhost:8080/"
        },
        "outputId": "86204015-7d16-4cc9-f4c5-d401db63ea54"
      },
      "outputs": [
        {
          "output_type": "execute_result",
          "data": {
            "text/plain": [
              "array([[ 1,  2,  3],\n",
              "       [ 4,  5,  6],\n",
              "       [ 7,  8,  9],\n",
              "       [10, 11, 12]])"
            ]
          },
          "metadata": {},
          "execution_count": 19
        }
      ],
      "source": [
        "#dimensions not same\n",
        "\n",
        "arr1=np.array([1,2,3])\n",
        "arr2=np.array([4,5,6])\n",
        "arr=np.vstack((arr1,arr2))\n",
        "arr\n",
        "\n",
        "#dimensions ramains same\n",
        "\n",
        "arr1=np.array([[1,2,3],\n",
        "               [4,5,6]])\n",
        "arr2=np.array([[7,8,9],\n",
        "              [10,11,12]])\n",
        "arr=np.vstack((arr1,arr2))\n",
        "#similar to concatenate (axis=1)\n",
        "arr"
      ]
    },
    {
      "cell_type": "markdown",
      "id": "8da1ada5",
      "metadata": {
        "id": "8da1ada5"
      },
      "source": [
        "## Splitting NumPy Arrays"
      ]
    },
    {
      "cell_type": "markdown",
      "id": "f6f71a1d",
      "metadata": {
        "id": "f6f71a1d"
      },
      "source": [
        "Splitting is reverse operation of Joining.\n",
        "\n",
        "Joining merges multiple arrays into one and Splitting breaks one array into multiple.\n",
        "\n",
        "We use array_split() for splitting arrays, we pass it the array we want to split and the number of splits."
      ]
    },
    {
      "cell_type": "code",
      "execution_count": null,
      "id": "a1455b89",
      "metadata": {
        "id": "a1455b89",
        "colab": {
          "base_uri": "https://localhost:8080/"
        },
        "outputId": "1da08f8e-a5b9-433d-ac9f-5bf06eb55802"
      },
      "outputs": [
        {
          "output_type": "execute_result",
          "data": {
            "text/plain": [
              "[array([1, 2]), array([3, 4]), array([5, 6])]"
            ]
          },
          "metadata": {},
          "execution_count": 20
        }
      ],
      "source": [
        "#Splitting array\n",
        "arr=np.array([1,2,3,4,5,6])\n",
        "new_arr=np.array_split(arr,3)\n",
        "new_arr\n",
        "\n"
      ]
    },
    {
      "cell_type": "code",
      "execution_count": null,
      "id": "624e7593",
      "metadata": {
        "id": "624e7593",
        "outputId": "5ecd82d6-85b0-4855-af41-7fb0cad23248",
        "colab": {
          "base_uri": "https://localhost:8080/"
        }
      },
      "outputs": [
        {
          "output_type": "execute_result",
          "data": {
            "text/plain": [
              "array([2, 3, 4, 5])"
            ]
          },
          "metadata": {},
          "execution_count": 21
        }
      ],
      "source": [
        "#Slicing array\n",
        "arr=np.array([1,2,3,4,5,6])\n",
        "arr[1:5]\n"
      ]
    },
    {
      "cell_type": "markdown",
      "id": "3903307f",
      "metadata": {
        "id": "3903307f"
      },
      "source": [
        "#### <font color=red>Split the array in 4 parts:</font>"
      ]
    },
    {
      "cell_type": "code",
      "execution_count": null,
      "id": "9aba154b",
      "metadata": {
        "id": "9aba154b",
        "colab": {
          "base_uri": "https://localhost:8080/"
        },
        "outputId": "0e25663b-b900-42e8-956d-cd854d1f2edd"
      },
      "outputs": [
        {
          "output_type": "execute_result",
          "data": {
            "text/plain": [
              "[array([1, 2]), array([3, 4]), array([5, 6]), array([7])]"
            ]
          },
          "metadata": {},
          "execution_count": 22
        }
      ],
      "source": [
        "arr=np.array([1,2,3,4,5,6,7])\n",
        "new_arr=np.array_split(arr,4)\n",
        "new_arr"
      ]
    },
    {
      "cell_type": "markdown",
      "id": "bbc37804",
      "metadata": {
        "id": "bbc37804"
      },
      "source": [
        "The return value of the array_split() method is an array containing each of the split as an array.\n",
        "\n",
        "If you split an array into 3 arrays, you can access them from the result just like any array element:\n",
        "\n",
        "Example"
      ]
    },
    {
      "cell_type": "code",
      "execution_count": null,
      "id": "26dd388f",
      "metadata": {
        "id": "26dd388f",
        "colab": {
          "base_uri": "https://localhost:8080/"
        },
        "outputId": "f8e4e151-1f5e-4d15-e75b-fbf09b36e47a"
      },
      "outputs": [
        {
          "output_type": "execute_result",
          "data": {
            "text/plain": [
              "array([1, 2])"
            ]
          },
          "metadata": {},
          "execution_count": 24
        }
      ],
      "source": [
        "#splitting arrays and accessing them by indexes\n",
        "\n",
        "arr=np.array([1,2,3,4,5,6])\n",
        "new_arr=np.array_split(arr,3)\n",
        "new_arr[0]"
      ]
    },
    {
      "cell_type": "markdown",
      "id": "a0a8773f",
      "metadata": {
        "id": "a0a8773f"
      },
      "source": [
        "Splitting 2-D Arrays\n",
        "Use the same syntax when splitting 2-D arrays.\n",
        "\n",
        "Use the array_split() method, pass in the array you want to split and the number of splits you want to do."
      ]
    },
    {
      "cell_type": "code",
      "execution_count": null,
      "id": "9f54f81b",
      "metadata": {
        "id": "9f54f81b",
        "colab": {
          "base_uri": "https://localhost:8080/"
        },
        "outputId": "cf526126-b1da-4356-f10c-23a7455524cb"
      },
      "outputs": [
        {
          "output_type": "execute_result",
          "data": {
            "text/plain": [
              "[array([[1, 2],\n",
              "        [3, 4]]), array([[5, 6],\n",
              "        [7, 8]]), array([[ 9, 10]])]"
            ]
          },
          "metadata": {},
          "execution_count": 26
        }
      ],
      "source": [
        "#splitting a 2D array\n",
        "arr=np.array([[1,2],[3,4],[5,6],[7,8],[9,10]])\n",
        "np.array_split(arr,3)"
      ]
    },
    {
      "cell_type": "markdown",
      "id": "24ef874f",
      "metadata": {
        "id": "24ef874f"
      },
      "source": [
        "## Homework- Imp for Interviews: Read and revise about Indexing, Slicing, Join, Split, Search & Sort: Contact me for important links, docs for studying "
      ]
    },
    {
      "cell_type": "markdown",
      "id": "e0680404",
      "metadata": {
        "id": "e0680404"
      },
      "source": [
        "### <font color=blue>Statistics in NumPy</font>"
      ]
    },
    {
      "cell_type": "markdown",
      "id": "969b44ac",
      "metadata": {
        "id": "969b44ac"
      },
      "source": [
        "Go through official documentation:\n",
        "https://numpy.org/doc/stable/reference/routines.statistics.html"
      ]
    },
    {
      "cell_type": "code",
      "execution_count": null,
      "id": "0b338703",
      "metadata": {
        "id": "0b338703"
      },
      "outputs": [],
      "source": [
        "# pick up anything-- lets pick up percentile"
      ]
    },
    {
      "cell_type": "code",
      "execution_count": null,
      "id": "4e809edc",
      "metadata": {
        "id": "4e809edc"
      },
      "outputs": [],
      "source": []
    },
    {
      "cell_type": "code",
      "execution_count": null,
      "id": "12f70e53",
      "metadata": {
        "id": "12f70e53"
      },
      "outputs": [],
      "source": []
    },
    {
      "cell_type": "markdown",
      "id": "2e190300",
      "metadata": {
        "id": "2e190300"
      },
      "source": [
        "[link text](https:// [link text](https://))### Random Numbers in NumPy"
      ]
    },
    {
      "cell_type": "markdown",
      "id": "5bf266d3",
      "metadata": {
        "id": "5bf266d3"
      },
      "source": [
        "Random number does NOT mean a different number every time. Random means something that can not be predicted logically."
      ]
    },
    {
      "cell_type": "code",
      "execution_count": null,
      "id": "eeea1c91",
      "metadata": {
        "id": "eeea1c91",
        "colab": {
          "base_uri": "https://localhost:8080/"
        },
        "outputId": "0b287b76-434c-46aa-81fc-b5a729a39e7a"
      },
      "outputs": [
        {
          "output_type": "execute_result",
          "data": {
            "text/plain": [
              "37"
            ]
          },
          "metadata": {},
          "execution_count": 27
        }
      ],
      "source": [
        "#random integer less than 100\n",
        "from numpy import random\n",
        "random.randint(100)\n"
      ]
    },
    {
      "cell_type": "code",
      "execution_count": null,
      "id": "bbfb6273",
      "metadata": {
        "id": "bbfb6273",
        "colab": {
          "base_uri": "https://localhost:8080/"
        },
        "outputId": "d97a9205-4957-4cc9-fc93-aec22420befe"
      },
      "outputs": [
        {
          "output_type": "execute_result",
          "data": {
            "text/plain": [
              "0.46945143170095494"
            ]
          },
          "metadata": {},
          "execution_count": 28
        }
      ],
      "source": [
        "#random float from 0 to 1\n",
        "random.rand()\n",
        "\n",
        "#float(random.randrange(155, 389))"
      ]
    },
    {
      "cell_type": "code",
      "execution_count": null,
      "id": "09d0e333",
      "metadata": {
        "id": "09d0e333",
        "colab": {
          "base_uri": "https://localhost:8080/"
        },
        "outputId": "65939d49-51e1-4f38-bafc-8f8065194826"
      },
      "outputs": [
        {
          "output_type": "execute_result",
          "data": {
            "text/plain": [
              "array([30, 10, 21, 27, 81])"
            ]
          },
          "metadata": {},
          "execution_count": 29
        }
      ],
      "source": [
        "# generating 5 random integers for 1 D array from 0 to 100\n",
        "x=random.randint(100,size=(5))\n",
        "x"
      ]
    },
    {
      "cell_type": "code",
      "execution_count": null,
      "id": "fc4e295b",
      "metadata": {
        "id": "fc4e295b",
        "colab": {
          "base_uri": "https://localhost:8080/"
        },
        "outputId": "5fd9ad9d-e69f-4214-acb2-18f25103364b"
      },
      "outputs": [
        {
          "output_type": "execute_result",
          "data": {
            "text/plain": [
              "array([[56, 85, 43, 50,  1],\n",
              "       [16,  9, 72,  3, 57],\n",
              "       [19, 98, 65, 97, 87]])"
            ]
          },
          "metadata": {},
          "execution_count": 30
        }
      ],
      "source": [
        "# generating 3X5 random integers for 2 D array from 0 to 100\n",
        "x=random.randint(100,size=(3,5))\n",
        "x\n"
      ]
    },
    {
      "cell_type": "markdown",
      "id": "e6063076",
      "metadata": {
        "id": "e6063076"
      },
      "source": [
        "Randomness has very important applications in many areas of mathematics. In statistics, the selection of a random sample is important to ensure that a study is conducted without bias. A simple random sample is obtained by numbering every member of the population of interest, and assigning each member a numerical label."
      ]
    },
    {
      "cell_type": "markdown",
      "id": "8f2f3c39",
      "metadata": {
        "id": "8f2f3c39"
      },
      "source": [
        "### Normal Distribution "
      ]
    },
    {
      "cell_type": "markdown",
      "id": "46df531a",
      "metadata": {
        "id": "46df531a"
      },
      "source": [
        "The Normal Distribution is one of the most important distributions.\n",
        "\n",
        "It is also called the Gaussian Distribution\n",
        "\n",
        "It fits the probability distribution of many events, eg. IQ Scores, Heartbeat etc.\n",
        "\n",
        "Use the random.normal() method to get a Normal Data Distribution.\n",
        "\n",
        "It has three parameters:\n",
        "\n",
        "loc - (Mean) where the peak of the bell exists.\n",
        "\n",
        "scale - (Standard Deviation) how flat the graph distribution should be.\n",
        "\n",
        "size - The shape of the returned array."
      ]
    },
    {
      "cell_type": "code",
      "execution_count": null,
      "id": "b9e31b6f",
      "metadata": {
        "id": "b9e31b6f",
        "colab": {
          "base_uri": "https://localhost:8080/"
        },
        "outputId": "9f1b8a40-dd4a-4052-d361-766b29283d43"
      },
      "outputs": [
        {
          "output_type": "execute_result",
          "data": {
            "text/plain": [
              "0.3734038206114448"
            ]
          },
          "metadata": {},
          "execution_count": 31
        }
      ],
      "source": [
        "random.normal()"
      ]
    },
    {
      "cell_type": "code",
      "execution_count": null,
      "id": "b2e18763",
      "metadata": {
        "id": "b2e18763",
        "colab": {
          "base_uri": "https://localhost:8080/"
        },
        "outputId": "ff06c02a-e672-40d0-98ec-842365e665e6"
      },
      "outputs": [
        {
          "output_type": "execute_result",
          "data": {
            "text/plain": [
              "array([[ 1.14528063, -0.13555467, -0.80635562],\n",
              "       [-1.38445326, -1.06938677, -0.3751156 ]])"
            ]
          },
          "metadata": {},
          "execution_count": 32
        }
      ],
      "source": [
        "#random-normal distribution in a 2*3 array\n",
        "random.normal(size=(2,3))"
      ]
    },
    {
      "cell_type": "markdown",
      "id": "a5b34575",
      "metadata": {
        "id": "a5b34575"
      },
      "source": [
        "#### <font color=red>Exercise:Generate a random normal distribution of size 2x3 with mean at 1 and standard deviation of 2</font>"
      ]
    },
    {
      "cell_type": "code",
      "execution_count": null,
      "id": "7c99698e",
      "metadata": {
        "id": "7c99698e",
        "colab": {
          "base_uri": "https://localhost:8080/",
          "height": 340
        },
        "outputId": "8a8bcfa3-09bb-47f3-d122-2ed21deed2d0"
      },
      "outputs": [
        {
          "output_type": "stream",
          "name": "stderr",
          "text": [
            "/usr/local/lib/python3.7/dist-packages/seaborn/distributions.py:2619: FutureWarning: `distplot` is a deprecated function and will be removed in a future version. Please adapt your code to use either `displot` (a figure-level function with similar flexibility) or `kdeplot` (an axes-level function for kernel density plots).\n",
            "  warnings.warn(msg, FutureWarning)\n"
          ]
        },
        {
          "output_type": "execute_result",
          "data": {
            "text/plain": [
              "<matplotlib.axes._subplots.AxesSubplot at 0x7fa82ecb1350>"
            ]
          },
          "metadata": {},
          "execution_count": 36
        },
        {
          "output_type": "display_data",
          "data": {
            "text/plain": [
              "<Figure size 432x288 with 1 Axes>"
            ],
            "image/png": "[encoded data removed]"
          },
          "metadata": {
            "needs_background": "light"
          }
        }
      ],
      "source": [
        "#normal distribution-visualization\n",
        "random.normal(size=(2,3),loc=1,scale=2)\n",
        "\n",
        "import seaborn as sns\n",
        "#import matplotlib.pyplot as plt\n",
        "sns.distplot(random.normal(size=(2,3),loc=1,scale=2),hist=False)"
      ]
    },
    {
      "cell_type": "markdown",
      "id": "218e857e",
      "metadata": {
        "id": "218e857e"
      },
      "source": [
        "For a normal distribution, 68% of the observations are within +/- one standard deviation of the mean, 95% are within +/- two standard deviations, and 99.7% are within +- three standard deviations."
      ]
    },
    {
      "cell_type": "markdown",
      "id": "5f8ec542",
      "metadata": {
        "id": "5f8ec542"
      },
      "source": [
        "## Homework- Imp for Interviews: Read and revise about NumPy common statistics functions like mean, median, mode, percentiles, quintiles\n",
        "## Also learn & revise the theory behind Normal/Gaussian Distribution, Binomial Distribution & Poisson distribution.\n",
        "## Popular Question: What do you mean by Central Limit Theorem?\n"
      ]
    },
    {
      "cell_type": "markdown",
      "id": "ef127720",
      "metadata": {
        "id": "ef127720"
      },
      "source": [
        "## <font color=green>Image Processing in NumPy</font>"
      ]
    },
    {
      "cell_type": "code",
      "execution_count": null,
      "id": "182e1988",
      "metadata": {
        "id": "182e1988"
      },
      "outputs": [],
      "source": [
        "# importing all the required libraries\n",
        "import numpy as np\n",
        "import matplotlib.pyplot as plt\n",
        "from PIL import Image, ImageOps"
      ]
    },
    {
      "cell_type": "markdown",
      "id": "b3bee91b",
      "metadata": {
        "id": "b3bee91b"
      },
      "source": [
        "Pillow package is one of the important libraries of python for image manipulation. Pillow is a free and open source library for the Python programming language that allows you to easily create & manipulate digital images\n",
        "\n",
        "PIL is the Python Imaging Library which provides the python interpreter with image editing capabilities. the ImageOps module contains a number of 'ready-made' image processing operations. This module is somewhat experimental, and most operators only work on L and RGB images"
      ]
    },
    {
      "cell_type": "code",
      "execution_count": null,
      "id": "b661288b",
      "metadata": {
        "id": "b661288b"
      },
      "outputs": [],
      "source": [
        "#open image\n"
      ]
    },
    {
      "cell_type": "code",
      "execution_count": null,
      "id": "16ada260",
      "metadata": {
        "id": "16ada260"
      },
      "outputs": [],
      "source": [
        "#attributes\n"
      ]
    },
    {
      "cell_type": "code",
      "execution_count": null,
      "id": "249bece2",
      "metadata": {
        "id": "249bece2"
      },
      "outputs": [],
      "source": [
        "#Rotate image by 90 degree\n"
      ]
    },
    {
      "cell_type": "markdown",
      "id": "db8bfa44",
      "metadata": {
        "id": "db8bfa44"
      },
      "source": [
        "Negative of an Image\n",
        "Converting a color image to a negative image is very simple. You to perform only 3 steps for each pixel of the image\n",
        "\n",
        "First, get the RGB values of the pixel\n",
        "Calculate new RGB values using R = 255 – R, G = 255 – G, B = 255- B\n",
        "Finally, save the new RGB values in the pixel\n",
        "Check the below code to convert an image to a negative image."
      ]
    },
    {
      "cell_type": "code",
      "execution_count": null,
      "id": "3b5ba7cf",
      "metadata": {
        "id": "3b5ba7cf"
      },
      "outputs": [],
      "source": [
        "#Negative of grey image\n"
      ]
    },
    {
      "cell_type": "markdown",
      "id": "210e6cd0",
      "metadata": {
        "id": "210e6cd0"
      },
      "source": [
        "### Try doing something new to the image: making it black & white/ completely blue/ changing background color/color reduction/360 degree rotation etc "
      ]
    },
    {
      "cell_type": "markdown",
      "id": "941878e7",
      "metadata": {
        "id": "941878e7"
      },
      "source": [
        "## <font color=red> Once mastered, go to Kaggle.com for Image processing projects using NumPy & SciPy</font> "
      ]
    }
  ],
  "metadata": {
    "kernelspec": {
      "display_name": "Python 3 (ipykernel)",
      "language": "python",
      "name": "python3"
    },
    "language_info": {
      "codemirror_mode": {
        "name": "ipython",
        "version": 3
      },
      "file_extension": ".py",
      "mimetype": "text/x-python",
      "name": "python",
      "nbconvert_exporter": "python",
      "pygments_lexer": "ipython3",
      "version": "3.9.7"
    },
    "colab": {
      "provenance": []
    }
  },
  "nbformat": 4,
  "nbformat_minor": 5
}