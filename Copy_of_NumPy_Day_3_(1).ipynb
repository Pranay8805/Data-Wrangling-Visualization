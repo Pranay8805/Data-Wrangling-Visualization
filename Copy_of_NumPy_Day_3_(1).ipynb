{
  "cells": [
    {
      "cell_type": "markdown",
      "id": "1f4a24fb",
      "metadata": {
        "id": "1f4a24fb"
      },
      "source": [
        "## NumPy Shape- Reshape"
      ]
    },
    {
      "cell_type": "markdown",
      "id": "201466f4",
      "metadata": {
        "id": "201466f4"
      },
      "source": [
        "### <font color=pink>Recap of Past Concepts: NumPy Shapes</font>"
      ]
    },
    {
      "cell_type": "code",
      "execution_count": null,
      "id": "31cc319c",
      "metadata": {
        "id": "31cc319c"
      },
      "outputs": [],
      "source": [
        "#Import numpy library\n",
        "import numpy as np"
      ]
    },
    {
      "cell_type": "code",
      "execution_count": null,
      "id": "4e68fadb",
      "metadata": {
        "id": "4e68fadb"
      },
      "outputs": [],
      "source": [
        "#Input a 2D array\n"
      ]
    },
    {
      "cell_type": "code",
      "execution_count": null,
      "id": "ddc395b6",
      "metadata": {
        "id": "ddc395b6"
      },
      "outputs": [],
      "source": []
    },
    {
      "cell_type": "markdown",
      "id": "eb20f29a",
      "metadata": {
        "id": "eb20f29a"
      },
      "source": [
        "### Today's topic:: Reshaping NumPy Arrays"
      ]
    },
    {
      "cell_type": "markdown",
      "id": "17198d07",
      "metadata": {
        "id": "17198d07"
      },
      "source": [
        "#### <font color=violet>Reshaping NumPy Arrays</font>"
      ]
    },
    {
      "cell_type": "markdown",
      "id": "6a82e9bc",
      "metadata": {
        "id": "6a82e9bc"
      },
      "source": [
        "Reshaping means changing the shape of an array.\n",
        "\n",
        "The shape of an array is the number of elements in each dimension.\n",
        "\n",
        "By reshaping we can add or remove dimensions or change number of elements in each dimension."
      ]
    },
    {
      "cell_type": "code",
      "execution_count": null,
      "id": "a4cfcc9a",
      "metadata": {
        "id": "a4cfcc9a"
      },
      "outputs": [],
      "source": [
        "#Converting 1 D array to 2 D array\n"
      ]
    },
    {
      "cell_type": "markdown",
      "id": "12e2655c",
      "metadata": {
        "id": "12e2655c"
      },
      "source": [
        "#### <font color=red>Exercise: Convert 1 D Array to 3 D array. Hint: use arr.reshape(no of cells, rows, columns)</font>"
      ]
    },
    {
      "cell_type": "code",
      "execution_count": null,
      "id": "641a3b72",
      "metadata": {
        "id": "641a3b72"
      },
      "outputs": [],
      "source": []
    },
    {
      "cell_type": "markdown",
      "id": "c28151a7",
      "metadata": {
        "id": "c28151a7"
      },
      "source": [
        "### Unknown Dimensions"
      ]
    },
    {
      "cell_type": "markdown",
      "id": "10d5e057",
      "metadata": {
        "id": "10d5e057"
      },
      "source": [
        "You are allowed to have one \"unknown\" dimension.\n",
        "\n",
        "Meaning that you do not have to specify an exact number for one of the dimensions in the reshape method.\n",
        "\n",
        "Pass -1 as the value, and NumPy will calculate this number for you."
      ]
    },
    {
      "cell_type": "code",
      "execution_count": null,
      "id": "544b3881",
      "metadata": {
        "scrolled": true,
        "id": "544b3881"
      },
      "outputs": [],
      "source": []
    },
    {
      "cell_type": "markdown",
      "id": "8da1ada5",
      "metadata": {
        "id": "8da1ada5"
      },
      "source": [
        "## Flattening of NumPy Arrays"
      ]
    },
    {
      "cell_type": "markdown",
      "id": "f6f71a1d",
      "metadata": {
        "id": "f6f71a1d"
      },
      "source": [
        "Flattening array means converting a multidimensional array into a 1D array.\n",
        "\n",
        "We can use reshape(-1) to do this."
      ]
    },
    {
      "cell_type": "code",
      "execution_count": null,
      "id": "a1455b89",
      "metadata": {
        "id": "a1455b89"
      },
      "outputs": [],
      "source": [
        "# Flattening of array\n"
      ]
    },
    {
      "cell_type": "markdown",
      "id": "3903307f",
      "metadata": {
        "id": "3903307f"
      },
      "source": [
        "## Slicing of NumPy Arrays\n"
      ]
    },
    {
      "cell_type": "markdown",
      "id": "67d13e3b",
      "metadata": {
        "id": "67d13e3b"
      },
      "source": [
        "Slicing in python means taking elements from one given index to another given index.\n",
        "\n",
        "We pass slice instead of index like this: [start:end].\n",
        "\n",
        "We can also define the step, like this: [start:end:step].\n",
        "\n",
        "If we don't pass start its considered 0\n",
        "\n",
        "If we don't pass end its considered length of array in that dimension\n",
        "\n",
        "If we don't pass step its considered 1"
      ]
    },
    {
      "cell_type": "code",
      "execution_count": null,
      "id": "26dd388f",
      "metadata": {
        "id": "26dd388f"
      },
      "outputs": [],
      "source": [
        "#slice elements from index 1 to index 5\n"
      ]
    },
    {
      "cell_type": "code",
      "execution_count": null,
      "id": "9f54f81b",
      "metadata": {
        "id": "9f54f81b"
      },
      "outputs": [],
      "source": [
        "#Slice elements from index 4 to the end of the array:\n"
      ]
    },
    {
      "cell_type": "code",
      "execution_count": null,
      "id": "d10b66f2",
      "metadata": {
        "id": "d10b66f2"
      },
      "outputs": [],
      "source": [
        "#Slice elements from the beginning to index 4 (not included):\n",
        "\n"
      ]
    },
    {
      "cell_type": "markdown",
      "id": "de008465",
      "metadata": {
        "id": "de008465"
      },
      "source": [
        "## Negative Slicing"
      ]
    },
    {
      "cell_type": "code",
      "execution_count": null,
      "id": "33fc0c7b",
      "metadata": {
        "id": "33fc0c7b"
      },
      "outputs": [],
      "source": []
    },
    {
      "cell_type": "code",
      "execution_count": null,
      "id": "e2cb7eae",
      "metadata": {
        "id": "e2cb7eae"
      },
      "outputs": [],
      "source": [
        "# Some more practice\n",
        "#Return every other element from index 1 to index 5:\n",
        "\n"
      ]
    },
    {
      "cell_type": "code",
      "execution_count": null,
      "id": "8ab93c4b",
      "metadata": {
        "id": "8ab93c4b"
      },
      "outputs": [],
      "source": [
        "#Return every other element from the entire array:\n",
        "\n"
      ]
    },
    {
      "cell_type": "markdown",
      "id": "f14d073e",
      "metadata": {
        "id": "f14d073e"
      },
      "source": [
        "## Slicing for 2D Arrays"
      ]
    },
    {
      "cell_type": "code",
      "execution_count": null,
      "id": "f78f4378",
      "metadata": {
        "id": "f78f4378"
      },
      "outputs": [],
      "source": [
        "# slice a 2D array 2nd element- 1st to 4th index\n"
      ]
    },
    {
      "cell_type": "code",
      "execution_count": null,
      "id": "6b87819a",
      "metadata": {
        "id": "6b87819a"
      },
      "outputs": [],
      "source": [
        "#From both elements, return index 2:\n",
        "\n",
        "\n",
        "# arr[element, index]"
      ]
    },
    {
      "cell_type": "code",
      "execution_count": null,
      "id": "f8e32c61",
      "metadata": {
        "id": "f8e32c61"
      },
      "outputs": [],
      "source": [
        "#From both elements, slice index 1 to index 4 (not included), this will return a 2-D array:\n",
        "\n"
      ]
    },
    {
      "cell_type": "markdown",
      "id": "6ca3ccbd",
      "metadata": {
        "id": "6ca3ccbd"
      },
      "source": [
        "Insert the correct slicing syntax to print the following selection of the array:\n",
        "\n",
        "Everything from (including) the second item to (not including) the fifth item\n"
      ]
    },
    {
      "cell_type": "code",
      "execution_count": null,
      "id": "eb2a60c4",
      "metadata": {
        "id": "eb2a60c4"
      },
      "outputs": [],
      "source": [
        "\n",
        "#print(arr[])"
      ]
    },
    {
      "cell_type": "markdown",
      "id": "e0680404",
      "metadata": {
        "id": "e0680404"
      },
      "source": [
        "### <font color=blue>Statistics in NumPy</font>"
      ]
    },
    {
      "cell_type": "markdown",
      "id": "969b44ac",
      "metadata": {
        "id": "969b44ac"
      },
      "source": [
        "Go through official documentation:\n",
        "https://numpy.org/doc/stable/reference/routines.statistics.html"
      ]
    },
    {
      "cell_type": "code",
      "execution_count": null,
      "id": "0b338703",
      "metadata": {
        "id": "0b338703"
      },
      "outputs": [],
      "source": [
        "# pick up anything-- lets pick up percentile"
      ]
    },
    {
      "cell_type": "markdown",
      "id": "2e190300",
      "metadata": {
        "id": "2e190300"
      },
      "source": [
        "### Again NumPy Stat Topics to be read & learnt:"
      ]
    },
    {
      "cell_type": "markdown",
      "id": "5bf266d3",
      "metadata": {
        "id": "5bf266d3"
      },
      "source": [
        "Numpy Percentile,\n",
        "Numpy.ptp(Range),\n",
        "Numpy.mean(),\n",
        "Median,\n",
        "Mode,\n",
        "Standard Deviation,\n",
        "Variance\n"
      ]
    },
    {
      "cell_type": "markdown",
      "id": "4e92a52b",
      "metadata": {
        "id": "4e92a52b"
      },
      "source": [
        "#Read about Binomial & Poisson distribution although seldom asked\n",
        "\n",
        "https://www.w3schools.com/python/numpy/numpy_random_binomial.asp\n",
        "\n",
        "\n",
        "\n",
        "https://www.w3schools.com/python/numpy/numpy_random_poisson.asp"
      ]
    },
    {
      "cell_type": "markdown",
      "id": "1560c0da",
      "metadata": {
        "id": "1560c0da"
      },
      "source": [
        "Ready for Quiz? Let's practice some questions"
      ]
    },
    {
      "cell_type": "markdown",
      "id": "b85d45ab",
      "metadata": {
        "id": "b85d45ab"
      },
      "source": [
        "Question 1: Given are 2 similar dimensional numpy arrays, how to get a numpy array output in which every element is an element-wise sum of the 2 numpy arrays?"
      ]
    },
    {
      "cell_type": "code",
      "execution_count": null,
      "id": "0ab52eef",
      "metadata": {
        "id": "0ab52eef"
      },
      "outputs": [],
      "source": [
        "a = np.array([[1,2,3],\n",
        "              [4,5,6]])\n",
        "\n",
        "b = np.array([[10,11,12],\n",
        "              [13,14,15]])\n",
        "# your code here\n"
      ]
    },
    {
      "cell_type": "markdown",
      "id": "e9454b66",
      "metadata": {
        "id": "e9454b66"
      },
      "source": [
        "Question 2: Given a numpy array (matrix), how to get a numpy array output which is equal to the original matrix multiplied by a scalar?"
      ]
    },
    {
      "cell_type": "code",
      "execution_count": null,
      "id": "c68e6c9d",
      "metadata": {
        "id": "c68e6c9d"
      },
      "outputs": [],
      "source": [
        "a = np.array([[1,2,3],\n",
        "              [4,5,6]])\n",
        "# your code here"
      ]
    },
    {
      "cell_type": "markdown",
      "id": "6d4fc93c",
      "metadata": {
        "id": "6d4fc93c"
      },
      "source": [
        "Question 3: Create an identity matrix of dimension 4-by-4 scalar?"
      ]
    },
    {
      "cell_type": "code",
      "execution_count": null,
      "id": "c84e00a1",
      "metadata": {
        "id": "c84e00a1"
      },
      "outputs": [],
      "source": []
    },
    {
      "cell_type": "markdown",
      "id": "f29fe279",
      "metadata": {
        "id": "f29fe279"
      },
      "source": [
        "Question 4: Convert a 1 D array into 3 D array"
      ]
    },
    {
      "cell_type": "code",
      "execution_count": null,
      "id": "1035491c",
      "metadata": {
        "id": "1035491c"
      },
      "outputs": [],
      "source": [
        "\n"
      ]
    },
    {
      "cell_type": "markdown",
      "id": "108519ec",
      "metadata": {
        "id": "108519ec"
      },
      "source": [
        "Question 5: Convert all the elements of a numpy array from integer to complex datatype\n",
        "\n"
      ]
    },
    {
      "cell_type": "code",
      "execution_count": null,
      "id": "9b8ee9bb",
      "metadata": {
        "id": "9b8ee9bb"
      },
      "outputs": [],
      "source": [
        "a = np.array([[2.5, 3.8, 1.5],\n",
        "             [4.7, 2.9, 1.56]])\n",
        "\n"
      ]
    },
    {
      "cell_type": "markdown",
      "id": "983bfde7",
      "metadata": {
        "id": "983bfde7"
      },
      "source": [
        "Question 6:Stack 2 numpy arrays horizontally i.e., 2 arrays having the same 1st dimension (number of rows in 2D arrays)"
      ]
    },
    {
      "cell_type": "code",
      "execution_count": null,
      "id": "0b9faa59",
      "metadata": {
        "id": "0b9faa59"
      },
      "outputs": [],
      "source": [
        "a1 = np.array([[1,2,3],\n",
        "               [4,5,6]])\n",
        "\n",
        "a2 = np.array([[7,8,9],\n",
        "               [10,11,12]])\n",
        "\n"
      ]
    },
    {
      "cell_type": "markdown",
      "id": "58272113",
      "metadata": {
        "id": "58272113"
      },
      "source": [
        "Question 7: From 2 arrays in numpy, extract the indexes in which the elements in the 2 arrays are in the same positions\n"
      ]
    },
    {
      "cell_type": "code",
      "execution_count": null,
      "id": "0a6d2926",
      "metadata": {
        "id": "0a6d2926"
      },
      "outputs": [],
      "source": [
        "a = np.array([1,2,3,4,5])\n",
        "\n",
        "b = np.array([1,3,2,4,5])\n",
        "\n"
      ]
    },
    {
      "cell_type": "markdown",
      "id": "0d1220e3",
      "metadata": {
        "id": "0d1220e3"
      },
      "source": [
        "Question 8: Output the transpose of a matrix (as numpy array)\n"
      ]
    },
    {
      "cell_type": "code",
      "execution_count": null,
      "id": "3473a4fa",
      "metadata": {
        "id": "3473a4fa"
      },
      "outputs": [],
      "source": [
        "a = np.array([[1,2,3],\n",
        "              [4,5,6],\n",
        "              [7,8,9]])\n",
        "\n"
      ]
    },
    {
      "cell_type": "markdown",
      "id": "4683a4d2",
      "metadata": {
        "id": "4683a4d2"
      },
      "source": [
        "## Interview Question links(Please go through them before attempting quiz/interviews"
      ]
    },
    {
      "cell_type": "markdown",
      "id": "f9c69a3f",
      "metadata": {
        "id": "f9c69a3f"
      },
      "source": [
        "https://www.hackertrail.com/talent/backend/numpy-interview-questions-answers/\n",
        "\n"
      ]
    },
    {
      "cell_type": "markdown",
      "id": "3fc221fb",
      "metadata": {
        "id": "3fc221fb"
      },
      "source": [
        "Some more useful pieces of code"
      ]
    },
    {
      "cell_type": "code",
      "execution_count": null,
      "id": "85e40049",
      "metadata": {
        "id": "85e40049",
        "outputId": "99a40b29-8129-47e6-b9df-eb5bfd28c615"
      },
      "outputs": [
        {
          "data": {
            "text/plain": [
              "array([4, 2, 1, 1, 3, 2, 0, 0, 0, 1])"
            ]
          },
          "execution_count": 26,
          "metadata": {},
          "output_type": "execute_result"
        }
      ],
      "source": [
        "arr = np.array([0, 5, 4, 0, 4, 4, 3, 0, 0, 5, 2, 1, 1, 9])\n",
        "\n",
        "np.bincount(arr)"
      ]
    }
  ],
  "metadata": {
    "kernelspec": {
      "display_name": "Python 3 (ipykernel)",
      "language": "python",
      "name": "python3"
    },
    "language_info": {
      "codemirror_mode": {
        "name": "ipython",
        "version": 3
      },
      "file_extension": ".py",
      "mimetype": "text/x-python",
      "name": "python",
      "nbconvert_exporter": "python",
      "pygments_lexer": "ipython3",
      "version": "3.9.7"
    },
    "colab": {
      "provenance": []
    }
  },
  "nbformat": 4,
  "nbformat_minor": 5
}